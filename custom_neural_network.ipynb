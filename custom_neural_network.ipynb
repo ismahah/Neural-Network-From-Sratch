{
  "nbformat": 4,
  "nbformat_minor": 0,
  "metadata": {
    "colab": {
      "provenance": []
    },
    "kernelspec": {
      "name": "python3",
      "display_name": "Python 3"
    },
    "language_info": {
      "name": "python"
    }
  },
  "cells": [
    {
      "cell_type": "code",
      "execution_count": null,
      "metadata": {
        "id": "Toa6V63B4wM8"
      },
      "outputs": [],
      "source": [
        "import numpy as np\n",
        "from sklearn.datasets import load_iris\n",
        "from sklearn.preprocessing import StandardScaler\n",
        "from sklearn.metrics import accuracy_score"
      ]
    },
    {
      "cell_type": "code",
      "source": [
        "class SingleLayerNN:\n",
        "    def __init__(self, input_size, output_size, lr=0.01, epochs=100):\n",
        "        self.input_size = input_size\n",
        "        self.output_size = output_size\n",
        "        self.lr = lr\n",
        "        self.epochs = epochs\n",
        "        self.weights = np.random.randn(input_size, output_size)\n",
        "        self.bias = np.zeros((1, output_size))\n",
        "\n",
        "    def svm_loss(self, logits, y):\n",
        "        diff = logits - logits[np.arange(y.shape[0]), y][:, np.newaxis]\n",
        "        diff[diff < 0] = 0\n",
        "        loss = np.sum(diff)\n",
        "        diff[diff > 0] = 1\n",
        "        diff[np.arange(y.shape[0]), y] = -1 * (np.sum(diff, axis=1))\n",
        "        return loss, diff\n",
        "\n",
        "    def affine_forward(self, X):\n",
        "        return np.dot(X, self.weights) + self.bias\n",
        "\n",
        "    def affine_backward(self, gradient, X):\n",
        "        W = np.dot(X.T, gradient)\n",
        "        B = np.sum(gradient, axis=0)\n",
        "        X = np.dot(gradient, self.weights.T)\n",
        "        return X, W, B\n",
        "\n",
        "    def train(self, X, y):\n",
        "        for epoch in range(self.epochs):\n",
        "            logits  = self.affine_forward(X)\n",
        "            loss, gradient = self.svm_loss(logits, y)\n",
        "            der_input, der_weights, der_bias = self.affine_backward(gradient, X)\n",
        "            self.weights -= self.lr*der_weights\n",
        "            self.bias -= self.lr*der_bias\n",
        "            if epoch % 10 == 0:\n",
        "                print(f\"Epoch {epoch}, Loss: {loss}\")\n",
        "        self.test(X, y)\n",
        "\n",
        "    def predict(self, X):\n",
        "        logits = self.affine_forward(X)\n",
        "        return np.argmax(logits, axis=1)\n",
        "\n",
        "    def test(self, X_test, y_test):\n",
        "        y_pred = self.predict(X_test)\n",
        "        accuracy = accuracy_score(y_test, y_pred)\n",
        "        print(f\"Accuracy: {accuracy}\")\n",
        "\n",
        "iris = load_iris()\n",
        "X = iris.data\n",
        "y = iris.target\n",
        "datasplit = int(0.9 * len(X))\n",
        "X_train, y_train = X[:datasplit], y[:datasplit]\n",
        "X_test, y_test = X[datasplit:], y[datasplit:]\n",
        "scaler = StandardScaler()\n",
        "X_train_scaled = scaler.fit_transform(X_train)\n",
        "X_test_scaled = scaler.transform(X_test)\n",
        "input_size = X_train_scaled.shape[1]\n",
        "output_size = len(np.unique(y_train))\n",
        "nn = SingleLayerNN(input_size, output_size)\n",
        "nn.train(X_train_scaled, y_train)"
      ],
      "metadata": {
        "colab": {
          "base_uri": "https://localhost:8080/"
        },
        "id": "ZnfLRZPIL97o",
        "outputId": "f8843398-dc6b-4de1-e051-00180de7bb2f"
      },
      "execution_count": null,
      "outputs": [
        {
          "output_type": "stream",
          "name": "stdout",
          "text": [
            "Epoch 0, Loss: 151.96594992684362\n",
            "Epoch 10, Loss: 1.2138078133527457\n",
            "Epoch 20, Loss: 0.4571670041367848\n",
            "Epoch 30, Loss: 0.3285041550938552\n",
            "Epoch 40, Loss: 0.2926202265072142\n",
            "Epoch 50, Loss: 0.26014470545104373\n",
            "Epoch 60, Loss: 0.22766918439487283\n",
            "Epoch 70, Loss: 0.4172965258562683\n",
            "Epoch 80, Loss: 0.20633822049111328\n",
            "Epoch 90, Loss: 0.18994268007301773\n",
            "Accuracy: 0.9925925925925926\n"
          ]
        }
      ]
    }
  ]
}